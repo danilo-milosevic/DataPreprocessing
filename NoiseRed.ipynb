{
 "cells": [
  {
   "cell_type": "markdown",
   "metadata": {},
   "source": [
    "# Plan\n",
    "1. Skini podatke\n",
    "2. Izdvoji train i test\n",
    "3. Analiza train skupa\n",
    "4. Normalizacija/standardizacija\n",
    "5. Vizuelizacija\n",
    "\n",
    "------\n",
    "1. Par modela obicna, NN, MCS neki i base performanse - rez kao matrica + granice odlucivanja\n",
    "2. Regularizacija modela + sve iz prvog koraka\n",
    "3. Dim reduction + 1. korak\n",
    "4. Otklanjanje outlier + 1. korak\n",
    "5. Redukcija suma atributa + 1. korak\n",
    "6. Otklanjanje suma labela + 1. korak\n",
    "7. OvO vs OvA\n",
    "8. Modeli otporni na sum\n",
    "9. Autoencoder za denoising|"
   ]
  },
  {
   "cell_type": "markdown",
   "metadata": {},
   "source": []
  }
 ],
 "metadata": {
  "language_info": {
   "name": "python"
  }
 },
 "nbformat": 4,
 "nbformat_minor": 2
}
